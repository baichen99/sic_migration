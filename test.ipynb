{
 "cells": [
  {
   "cell_type": "code",
   "execution_count": 5,
   "metadata": {},
   "outputs": [],
   "source": [
    "from xml.etree import ElementTree"
   ]
  },
  {
   "cell_type": "code",
   "execution_count": 6,
   "metadata": {},
   "outputs": [],
   "source": [
    "tree = ElementTree.parse('/Users/chenbai/Projects/mgi_data_migration/sic/simple_xml.xml') "
   ]
  },
  {
   "cell_type": "code",
   "execution_count": 19,
   "metadata": {},
   "outputs": [],
   "source": [
    "root = tree.getroot()\n",
    "all_nodes = []\n",
    "for elem in root.iter():\n",
    "    all_nodes.append(elem)"
   ]
  },
  {
   "cell_type": "code",
   "execution_count": 20,
   "metadata": {},
   "outputs": [
    {
     "name": "stdout",
     "output_type": "stream",
     "text": [
      "/mgd/123123\n",
      "/mgd/456456\n"
     ]
    }
   ],
   "source": [
    "for node in all_nodes:\n",
    "  if node.tag == 'url':\n",
    "    print(node.text)\n",
    "    node.text = 'http://matdata.shu.edu.cn' + node.text\n",
    "tree.write('/Users/chenbai/Projects/mgi_data_migration/sic/simple_xml_output.xml')\n",
    "    "
   ]
  },
  {
   "cell_type": "code",
   "execution_count": 21,
   "metadata": {},
   "outputs": [
    {
     "data": {
      "text/plain": [
       "'3.raw'"
      ]
     },
     "execution_count": 21,
     "metadata": {},
     "output_type": "execute_result"
    }
   ],
   "source": [
    "from utils import  getfilename\n",
    "import requests\n",
    "\n",
    "\n",
    "download_url = 'http://matdata.shu.edu.cn' + '/mdcs-sic/rest/blob/download/5c0caccdd50d235faf3fd369/'\n",
    "r = requests.get(download_url)\n",
    "fname = getfilename(r.headers)\n",
    "fname\n"
   ]
  },
  {
   "cell_type": "code",
   "execution_count": null,
   "metadata": {},
   "outputs": [],
   "source": []
  }
 ],
 "metadata": {
  "interpreter": {
   "hash": "aee8b7b246df8f9039afb4144a1f6fd8d2ca17a180786b69acc140d282b71a49"
  },
  "kernelspec": {
   "display_name": "Python 3.9.4 64-bit",
   "language": "python",
   "name": "python3"
  },
  "language_info": {
   "codemirror_mode": {
    "name": "ipython",
    "version": 3
   },
   "file_extension": ".py",
   "mimetype": "text/x-python",
   "name": "python",
   "nbconvert_exporter": "python",
   "pygments_lexer": "ipython3",
   "version": "3.9.6"
  },
  "orig_nbformat": 4
 },
 "nbformat": 4,
 "nbformat_minor": 2
}
